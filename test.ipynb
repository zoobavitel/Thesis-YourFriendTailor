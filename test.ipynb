{
 "cells": [
  {
   "cell_type": "code",
   "execution_count": 9,
   "metadata": {},
   "outputs": [
    {
     "name": "stdout",
     "output_type": "stream",
     "text": [
      "Category: long sleeve top, Count: 14744\n",
      "Category: short sleeve top, Count: 33910\n",
      "Category: skirt, Count: 5265\n",
      "Category: shorts, Count: 9794\n",
      "Category: trousers, Count: 17815\n",
      "Category: long sleeve outwear, Count: 6609\n",
      "Category: vest dress, Count: 10598\n",
      "Category: long sleeve dress, Count: 4531\n",
      "Category: short sleeve dress, Count: 10975\n",
      "Category: vest, Count: 9139\n",
      "Category: short sleeve outwear, Count: 263\n",
      "Category: sling, Count: 1117\n",
      "Category: sling dress, Count: 2632\n"
     ]
    }
   ],
   "source": [
    "import json\n",
    "import os\n",
    "\n",
    "# Assuming all JSON files are in the 'json_directory'\n",
    "json_directory = r'C:\\Users\\crisz\\Documents\\ECU Classes\\CSCI Graduate\\Thesis\\train\\annos'\n",
    "category_names = {}\n",
    "\n",
    "# Loop through each file in the directory\n",
    "for filename in os.listdir(json_directory):\n",
    "    if filename.endswith('.json'):\n",
    "        file_path = os.path.join(json_directory, filename)\n",
    "        with open(file_path, 'r') as file:\n",
    "            data = json.load(file)\n",
    "            # Check if the conditions are met (viewpoint and zoom_in)\n",
    "            if 'item1' in data and data['item1'].get('viewpoint') in [2, 3] and data['item1'].get('zoom_in') == 1:\n",
    "                # Extract the category_name for item1\n",
    "                category_name = data['item1'].get('category_name')\n",
    "                if category_name:\n",
    "                    # Count occurrences of each category_name\n",
    "                    if category_name in category_names:\n",
    "                        category_names[category_name] += 1\n",
    "                    else:\n",
    "                        category_names[category_name] = 1\n",
    "\n",
    "# Print out the counts for each category_name\n",
    "for category, count in category_names.items():\n",
    "    print(f'Category: {category}, Count: {count}')\n"
   ]
  }
 ],
 "metadata": {
  "kernelspec": {
   "display_name": "Python 3",
   "language": "python",
   "name": "python3"
  },
  "language_info": {
   "codemirror_mode": {
    "name": "ipython",
    "version": 3
   },
   "file_extension": ".py",
   "mimetype": "text/x-python",
   "name": "python",
   "nbconvert_exporter": "python",
   "pygments_lexer": "ipython3",
   "version": "3.9.0"
  }
 },
 "nbformat": 4,
 "nbformat_minor": 2
}
